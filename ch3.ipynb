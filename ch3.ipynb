{
 "cells": [
  {
   "cell_type": "code",
   "execution_count": 5,
   "id": "31c3b834-4bf3-4684-aac3-f22349ce8001",
   "metadata": {
    "tags": []
   },
   "outputs": [],
   "source": [
    "import pandas as pd\n",
    "import wooldridge as woo\n",
    "import numpy as np\n",
    "import statsmodels.api as sm"
   ]
  },
  {
   "cell_type": "code",
   "execution_count": 6,
   "id": "5448471b-268c-43f9-9463-4f839be98d8a",
   "metadata": {
    "tags": []
   },
   "outputs": [],
   "source": [
    "############# C1 ################\n",
    "\n",
    "data = woo.dataWoo('BWGHT')"
   ]
  },
  {
   "cell_type": "code",
   "execution_count": 7,
   "id": "5d069a7f-f194-4eab-b3f9-4ef7aaf57ed7",
   "metadata": {
    "tags": []
   },
   "outputs": [],
   "source": [
    "# ii OLS Regression Results \n",
    "y = data['bwght']\n",
    "x = data['cigs']\n",
    "x2 = data[[\"cigs\", \"faminc\"]]"
   ]
  },
  {
   "cell_type": "code",
   "execution_count": 13,
   "id": "b90550ef-6f90-40a7-9c0e-37c6cd072f2a",
   "metadata": {
    "tags": []
   },
   "outputs": [
    {
     "name": "stdout",
     "output_type": "stream",
     "text": [
      "                            OLS Regression Results                            \n",
      "==============================================================================\n",
      "Dep. Variable:                  bwght   R-squared:                       0.023\n",
      "Model:                            OLS   Adj. R-squared:                  0.022\n",
      "Method:                 Least Squares   F-statistic:                     32.24\n",
      "Date:                Sat, 18 Jun 2022   Prob (F-statistic):           1.66e-08\n",
      "Time:                        12:53:15   Log-Likelihood:                -6135.5\n",
      "No. Observations:                1388   AIC:                         1.227e+04\n",
      "Df Residuals:                    1386   BIC:                         1.229e+04\n",
      "Df Model:                           1                                         \n",
      "Covariance Type:            nonrobust                                         \n",
      "==============================================================================\n",
      "                 coef    std err          t      P>|t|      [0.025      0.975]\n",
      "------------------------------------------------------------------------------\n",
      "const        119.7719      0.572    209.267      0.000     118.649     120.895\n",
      "cigs          -0.5138      0.090     -5.678      0.000      -0.691      -0.336\n",
      "==============================================================================\n",
      "Omnibus:                      118.187   Durbin-Watson:                   1.924\n",
      "Prob(Omnibus):                  0.000   Jarque-Bera (JB):              635.742\n",
      "Skew:                          -0.156   Prob(JB):                    8.92e-139\n",
      "Kurtosis:                       6.301   Cond. No.                         6.72\n",
      "==============================================================================\n",
      "\n",
      "Notes:\n",
      "[1] Standard Errors assume that the covariance matrix of the errors is correctly specified.\n"
     ]
    }
   ],
   "source": [
    "x = sm.add_constant(x)\n",
    "model1 = sm.OLS(y, x).fit()\n",
    "print(model1.summary())"
   ]
  },
  {
   "cell_type": "code",
   "execution_count": 12,
   "id": "fc68f7e5-5890-482a-91ec-5560e8ee4e3f",
   "metadata": {
    "tags": []
   },
   "outputs": [
    {
     "name": "stdout",
     "output_type": "stream",
     "text": [
      "                            OLS Regression Results                            \n",
      "==============================================================================\n",
      "Dep. Variable:                  bwght   R-squared:                       0.030\n",
      "Model:                            OLS   Adj. R-squared:                  0.028\n",
      "Method:                 Least Squares   F-statistic:                     21.27\n",
      "Date:                Sat, 18 Jun 2022   Prob (F-statistic):           7.94e-10\n",
      "Time:                        12:53:11   Log-Likelihood:                -6130.4\n",
      "No. Observations:                1388   AIC:                         1.227e+04\n",
      "Df Residuals:                    1385   BIC:                         1.228e+04\n",
      "Df Model:                           2                                         \n",
      "Covariance Type:            nonrobust                                         \n",
      "==============================================================================\n",
      "                 coef    std err          t      P>|t|      [0.025      0.975]\n",
      "------------------------------------------------------------------------------\n",
      "const        116.9741      1.049    111.512      0.000     114.916     119.032\n",
      "cigs          -0.4634      0.092     -5.060      0.000      -0.643      -0.284\n",
      "faminc         0.0928      0.029      3.178      0.002       0.036       0.150\n",
      "==============================================================================\n",
      "Omnibus:                      116.751   Durbin-Watson:                   1.922\n",
      "Prob(Omnibus):                  0.000   Jarque-Bera (JB):              619.781\n",
      "Skew:                          -0.154   Prob(JB):                    2.61e-135\n",
      "Kurtosis:                       6.259   Cond. No.                         67.4\n",
      "==============================================================================\n",
      "\n",
      "Notes:\n",
      "[1] Standard Errors assume that the covariance matrix of the errors is correctly specified.\n"
     ]
    }
   ],
   "source": [
    "x2 = sm.add_constant(x2)\n",
    "model2 = sm.OLS(y, x2).fit()\n",
    "print(model2.summary())"
   ]
  },
  {
   "cell_type": "code",
   "execution_count": null,
   "id": "fe21515d-c2bb-4104-a7c5-af2c1b0ccc84",
   "metadata": {},
   "outputs": [],
   "source": [
    "# R-squared:\t0.023    R-squared (uncentered):\t0.724\n",
    "# No. Observations:\t1388     No. Observations:\t1388\n",
    "\n",
    "# C2.i  𝑝𝑟𝑖𝑐𝑒=−19.3150+0.1284𝑠𝑞𝑟𝑓𝑡+15.1982𝑏𝑑𝑟𝑚𝑠"
   ]
  },
  {
   "cell_type": "code",
   "execution_count": 14,
   "id": "5b0ebad1-3c86-4590-9bad-8def9fe7d5c6",
   "metadata": {},
   "outputs": [],
   "source": [
    "############# C2 ################\n",
    "\n",
    "data = woo.dataWoo('HPRICE1')"
   ]
  },
  {
   "cell_type": "code",
   "execution_count": 17,
   "id": "dc31220b-b4a4-48cb-b52a-a8aa2acc8335",
   "metadata": {
    "collapsed": true,
    "jupyter": {
     "outputs_hidden": true
    },
    "tags": []
   },
   "outputs": [
    {
     "name": "stdout",
     "output_type": "stream",
     "text": [
      "                            OLS Regression Results                            \n",
      "==============================================================================\n",
      "Dep. Variable:                  price   R-squared:                       0.632\n",
      "Model:                            OLS   Adj. R-squared:                  0.623\n",
      "Method:                 Least Squares   F-statistic:                     72.96\n",
      "Date:                Sat, 18 Jun 2022   Prob (F-statistic):           3.57e-19\n",
      "Time:                        13:16:14   Log-Likelihood:                -488.00\n",
      "No. Observations:                  88   AIC:                             982.0\n",
      "Df Residuals:                      85   BIC:                             989.4\n",
      "Df Model:                           2                                         \n",
      "Covariance Type:            nonrobust                                         \n",
      "==============================================================================\n",
      "                 coef    std err          t      P>|t|      [0.025      0.975]\n",
      "------------------------------------------------------------------------------\n",
      "const        -19.3150     31.047     -0.622      0.536     -81.044      42.414\n",
      "sqrft          0.1284      0.014      9.291      0.000       0.101       0.156\n",
      "bdrms         15.1982      9.484      1.603      0.113      -3.658      34.054\n",
      "==============================================================================\n",
      "Omnibus:                       25.221   Durbin-Watson:                   1.858\n",
      "Prob(Omnibus):                  0.000   Jarque-Bera (JB):               44.973\n",
      "Skew:                           1.122   Prob(JB):                     1.72e-10\n",
      "Kurtosis:                       5.689   Cond. No.                     9.85e+03\n",
      "==============================================================================\n",
      "\n",
      "Notes:\n",
      "[1] Standard Errors assume that the covariance matrix of the errors is correctly specified.\n",
      "[2] The condition number is large, 9.85e+03. This might indicate that there are\n",
      "strong multicollinearity or other numerical problems.\n"
     ]
    }
   ],
   "source": [
    "# ii OLS Regression Results \n",
    "y = data['price']\n",
    "x = data[[\"sqrft\", \"bdrms\"]]\n",
    "x = sm.add_constant(x)\n",
    "model = sm.OLS(y, x).fit()\n",
    "print(model.summary())"
   ]
  },
  {
   "cell_type": "code",
   "execution_count": 16,
   "id": "949d7a98-b3be-42e1-aa39-e9254d75fac5",
   "metadata": {
    "tags": []
   },
   "outputs": [],
   "source": [
    "# C2.\n",
    "# i  𝑝𝑟𝑖𝑐𝑒=−19.3150+0.1284𝑠𝑞𝑟𝑓𝑡+15.1982𝑏𝑑𝑟𝑚𝑠\n",
    "# ii  15\n",
    "# iv R-squared:0.632\n",
    "# v  354517\n",
    "# vi 残差是$54,605.25, 买便宜了"
   ]
  },
  {
   "cell_type": "code",
   "execution_count": 21,
   "id": "cb240e30-996a-47ae-8241-d809e99f344c",
   "metadata": {},
   "outputs": [],
   "source": [
    "############# C3 ################\n",
    "\n",
    "data = woo.dataWoo('CEOSAL2')"
   ]
  },
  {
   "cell_type": "code",
   "execution_count": 22,
   "id": "b6d2d3d4-a6bf-4b08-a575-167285ddac8b",
   "metadata": {
    "collapsed": true,
    "jupyter": {
     "outputs_hidden": true
    },
    "tags": []
   },
   "outputs": [
    {
     "name": "stdout",
     "output_type": "stream",
     "text": [
      "                            OLS Regression Results                            \n",
      "==============================================================================\n",
      "Dep. Variable:                lsalary   R-squared:                       0.299\n",
      "Model:                            OLS   Adj. R-squared:                  0.291\n",
      "Method:                 Least Squares   F-statistic:                     37.13\n",
      "Date:                Sat, 18 Jun 2022   Prob (F-statistic):           3.73e-14\n",
      "Time:                        13:50:06   Log-Likelihood:                -130.56\n",
      "No. Observations:                 177   AIC:                             267.1\n",
      "Df Residuals:                     174   BIC:                             276.6\n",
      "Df Model:                           2                                         \n",
      "Covariance Type:            nonrobust                                         \n",
      "==============================================================================\n",
      "                 coef    std err          t      P>|t|      [0.025      0.975]\n",
      "------------------------------------------------------------------------------\n",
      "const          4.6209      0.254     18.163      0.000       4.119       5.123\n",
      "lsales         0.1621      0.040      4.087      0.000       0.084       0.240\n",
      "lmktval        0.1067      0.050      2.129      0.035       0.008       0.206\n",
      "==============================================================================\n",
      "Omnibus:                       17.241   Durbin-Watson:                   2.092\n",
      "Prob(Omnibus):                  0.000   Jarque-Bera (JB):               63.383\n",
      "Skew:                          -0.038   Prob(JB):                     1.72e-14\n",
      "Kurtosis:                       5.931   Cond. No.                         70.4\n",
      "==============================================================================\n",
      "\n",
      "Notes:\n",
      "[1] Standard Errors assume that the covariance matrix of the errors is correctly specified.\n"
     ]
    }
   ],
   "source": [
    "y = data['lsalary']\n",
    "x = data[[\"lsales\", \"lmktval\"]]\n",
    "x = sm.add_constant(x)\n",
    "model = sm.OLS(y, x).fit()\n",
    "print(model.summary())"
   ]
  },
  {
   "cell_type": "code",
   "execution_count": 23,
   "id": "7462be59-97c8-4f19-a21a-9c8f77c55068",
   "metadata": {
    "collapsed": true,
    "jupyter": {
     "outputs_hidden": true
    },
    "tags": []
   },
   "outputs": [
    {
     "name": "stdout",
     "output_type": "stream",
     "text": [
      "                            OLS Regression Results                            \n",
      "==============================================================================\n",
      "Dep. Variable:                lsalary   R-squared:                       0.299\n",
      "Model:                            OLS   Adj. R-squared:                  0.287\n",
      "Method:                 Least Squares   F-statistic:                     24.64\n",
      "Date:                Sat, 18 Jun 2022   Prob (F-statistic):           2.53e-13\n",
      "Time:                        13:51:49   Log-Likelihood:                -130.53\n",
      "No. Observations:                 177   AIC:                             269.1\n",
      "Df Residuals:                     173   BIC:                             281.8\n",
      "Df Model:                           3                                         \n",
      "Covariance Type:            nonrobust                                         \n",
      "==============================================================================\n",
      "                 coef    std err          t      P>|t|      [0.025      0.975]\n",
      "------------------------------------------------------------------------------\n",
      "const          4.6869      0.380     12.343      0.000       3.937       5.436\n",
      "lsales         0.1614      0.040      4.043      0.000       0.083       0.240\n",
      "lmktval        0.0975      0.064      1.531      0.128      -0.028       0.223\n",
      "profits     3.566e-05      0.000      0.235      0.815      -0.000       0.000\n",
      "==============================================================================\n",
      "Omnibus:                       17.054   Durbin-Watson:                   2.097\n",
      "Prob(Omnibus):                  0.000   Jarque-Bera (JB):               62.074\n",
      "Skew:                          -0.029   Prob(JB):                     3.32e-14\n",
      "Kurtosis:                       5.901   Cond. No.                     4.52e+03\n",
      "==============================================================================\n",
      "\n",
      "Notes:\n",
      "[1] Standard Errors assume that the covariance matrix of the errors is correctly specified.\n",
      "[2] The condition number is large, 4.52e+03. This might indicate that there are\n",
      "strong multicollinearity or other numerical problems.\n"
     ]
    }
   ],
   "source": [
    "y = data['lsalary']\n",
    "x = data[[\"lsales\", \"lmktval\", 'profits']]\n",
    "x = sm.add_constant(x)\n",
    "model = sm.OLS(y, x).fit()\n",
    "print(model.summary())"
   ]
  },
  {
   "cell_type": "code",
   "execution_count": 25,
   "id": "56562b8a-9c00-4365-98f3-662c465a71a6",
   "metadata": {
    "collapsed": true,
    "jupyter": {
     "outputs_hidden": true
    },
    "tags": []
   },
   "outputs": [
    {
     "name": "stdout",
     "output_type": "stream",
     "text": [
      "                            OLS Regression Results                            \n",
      "==============================================================================\n",
      "Dep. Variable:                lsalary   R-squared:                       0.318\n",
      "Model:                            OLS   Adj. R-squared:                  0.302\n",
      "Method:                 Least Squares   F-statistic:                     20.08\n",
      "Date:                Sat, 18 Jun 2022   Prob (F-statistic):           1.39e-13\n",
      "Time:                        14:01:36   Log-Likelihood:                -128.10\n",
      "No. Observations:                 177   AIC:                             266.2\n",
      "Df Residuals:                     172   BIC:                             282.1\n",
      "Df Model:                           4                                         \n",
      "Covariance Type:            nonrobust                                         \n",
      "==============================================================================\n",
      "                 coef    std err          t      P>|t|      [0.025      0.975]\n",
      "------------------------------------------------------------------------------\n",
      "const          4.5578      0.380     11.986      0.000       3.807       5.308\n",
      "lsales         0.1622      0.039      4.109      0.000       0.084       0.240\n",
      "lmktval        0.1018      0.063      1.614      0.108      -0.023       0.226\n",
      "profits     2.905e-05      0.000      0.193      0.847      -0.000       0.000\n",
      "ceoten         0.0117      0.005      2.187      0.030       0.001       0.022\n",
      "==============================================================================\n",
      "Omnibus:                       25.236   Durbin-Watson:                   2.047\n",
      "Prob(Omnibus):                  0.000   Jarque-Bera (JB):              121.011\n",
      "Skew:                          -0.281   Prob(JB):                     5.28e-27\n",
      "Kurtosis:                       7.012   Cond. No.                     4.57e+03\n",
      "==============================================================================\n",
      "\n",
      "Notes:\n",
      "[1] Standard Errors assume that the covariance matrix of the errors is correctly specified.\n",
      "[2] The condition number is large, 4.57e+03. This might indicate that there are\n",
      "strong multicollinearity or other numerical problems.\n"
     ]
    }
   ],
   "source": [
    "y = data['lsalary']\n",
    "x = data[[\"lsales\", \"lmktval\", 'profits', 'ceoten']]\n",
    "x = sm.add_constant(x)\n",
    "model = sm.OLS(y, x).fit()\n",
    "print(model.summary())"
   ]
  },
  {
   "cell_type": "code",
   "execution_count": 27,
   "id": "27b9b8fb-28c4-45b8-b83a-18a79ccc5386",
   "metadata": {
    "tags": []
   },
   "outputs": [
    {
     "data": {
      "text/plain": [
       "0.7768975920312077"
      ]
     },
     "execution_count": 27,
     "metadata": {},
     "output_type": "execute_result"
    }
   ],
   "source": [
    "data['lmktval'].corr(data['profits'])"
   ]
  },
  {
   "cell_type": "code",
   "execution_count": 38,
   "id": "4a02842e-de74-4b0e-b2d0-5b3555a1bbbd",
   "metadata": {},
   "outputs": [],
   "source": [
    "############# C4 ################\n",
    "\n",
    "data = woo.dataWoo('ATTEND')"
   ]
  },
  {
   "cell_type": "code",
   "execution_count": 41,
   "id": "42c6579f-928d-40b9-88e3-20e4f9be2732",
   "metadata": {
    "collapsed": true,
    "jupyter": {
     "outputs_hidden": true
    },
    "tags": []
   },
   "outputs": [
    {
     "name": "stdout",
     "output_type": "stream",
     "text": [
      "atndrte    81.709559\n",
      "priGPA      2.586775\n",
      "ACT        22.510294\n",
      "dtype: float64\n",
      "atndrte    100.00\n",
      "priGPA       3.93\n",
      "ACT         32.00\n",
      "dtype: float64\n",
      "atndrte     6.250\n",
      "priGPA      0.857\n",
      "ACT        13.000\n",
      "dtype: float64\n"
     ]
    }
   ],
   "source": [
    "print(data[[\"atndrte\", \"priGPA\", \"ACT\"]].mean())\n",
    "print(data[[\"atndrte\", \"priGPA\", \"ACT\"]].max())\n",
    "print(data[[\"atndrte\", \"priGPA\", \"ACT\"]].min())"
   ]
  },
  {
   "cell_type": "code",
   "execution_count": 39,
   "id": "bb21ccd7-7f40-47c3-a65c-9d6af75078ea",
   "metadata": {
    "tags": []
   },
   "outputs": [
    {
     "name": "stdout",
     "output_type": "stream",
     "text": [
      "                            OLS Regression Results                            \n",
      "==============================================================================\n",
      "Dep. Variable:                atndrte   R-squared:                       0.291\n",
      "Model:                            OLS   Adj. R-squared:                  0.288\n",
      "Method:                 Least Squares   F-statistic:                     138.7\n",
      "Date:                Sat, 18 Jun 2022   Prob (F-statistic):           3.39e-51\n",
      "Time:                        14:11:35   Log-Likelihood:                -2776.1\n",
      "No. Observations:                 680   AIC:                             5558.\n",
      "Df Residuals:                     677   BIC:                             5572.\n",
      "Df Model:                           2                                         \n",
      "Covariance Type:            nonrobust                                         \n",
      "==============================================================================\n",
      "                 coef    std err          t      P>|t|      [0.025      0.975]\n",
      "------------------------------------------------------------------------------\n",
      "const         75.7004      3.884     19.490      0.000      68.074      83.327\n",
      "priGPA        17.2606      1.083     15.936      0.000      15.134      19.387\n",
      "ACT           -1.7166      0.169    -10.156      0.000      -2.048      -1.385\n",
      "==============================================================================\n",
      "Omnibus:                      126.367   Durbin-Watson:                   2.011\n",
      "Prob(Omnibus):                  0.000   Jarque-Bera (JB):              237.444\n",
      "Skew:                          -1.079   Prob(JB):                     2.75e-52\n",
      "Kurtosis:                       4.929   Cond. No.                         163.\n",
      "==============================================================================\n",
      "\n",
      "Notes:\n",
      "[1] Standard Errors assume that the covariance matrix of the errors is correctly specified.\n"
     ]
    }
   ],
   "source": [
    "y = data['atndrte']\n",
    "x = data[[\"priGPA\", \"ACT\"]]\n",
    "x = sm.add_constant(x)\n",
    "model = sm.OLS(y, x).fit()\n",
    "print(model.summary())"
   ]
  },
  {
   "cell_type": "code",
   "execution_count": 44,
   "id": "5f3fed5f-bfd5-4214-b7c5-116b0523ef34",
   "metadata": {},
   "outputs": [
    {
     "name": "stdout",
     "output_type": "stream",
     "text": [
      "0    104.370504\n",
      "1     93.160625\n",
      "2     67.317270\n",
      "dtype: float64\n"
     ]
    }
   ],
   "source": [
    "X_p = pd.DataFrame({\"const\" : [1.0, 1.0, 1.0], \"priGPA\" : [3.65, 3.1, 2.1], \"ACT\": [20, 21, 26]})\n",
    "print(model.predict(exog=X_p))"
   ]
  },
  {
   "cell_type": "code",
   "execution_count": 45,
   "id": "d228250c-27cf-4a8f-9a6c-0d67990c7437",
   "metadata": {},
   "outputs": [],
   "source": [
    "############# C5 ################\n",
    "\n",
    "data = woo.dataWoo('WAGE1')"
   ]
  },
  {
   "cell_type": "code",
   "execution_count": 52,
   "id": "6a163ad3-9867-47ff-9a10-eb2fbaa4a350",
   "metadata": {
    "collapsed": true,
    "jupyter": {
     "outputs_hidden": true
    },
    "tags": []
   },
   "outputs": [
    {
     "name": "stdout",
     "output_type": "stream",
     "text": [
      "                            OLS Regression Results                            \n",
      "==============================================================================\n",
      "Dep. Variable:                   educ   R-squared:                       0.101\n",
      "Model:                            OLS   Adj. R-squared:                  0.098\n",
      "Method:                 Least Squares   F-statistic:                     29.49\n",
      "Date:                Sat, 18 Jun 2022   Prob (F-statistic):           7.33e-13\n",
      "Time:                        15:24:02   Log-Likelihood:                -1253.5\n",
      "No. Observations:                 526   AIC:                             2513.\n",
      "Df Residuals:                     523   BIC:                             2526.\n",
      "Df Model:                           2                                         \n",
      "Covariance Type:            nonrobust                                         \n",
      "==============================================================================\n",
      "                 coef    std err          t      P>|t|      [0.025      0.975]\n",
      "------------------------------------------------------------------------------\n",
      "const         13.5750      0.184     73.647      0.000      13.213      13.937\n",
      "exper         -0.0738      0.010     -7.559      0.000      -0.093      -0.055\n",
      "tenure         0.0477      0.018      2.600      0.010       0.012       0.084\n",
      "==============================================================================\n",
      "Omnibus:                       32.728   Durbin-Watson:                   1.870\n",
      "Prob(Omnibus):                  0.000   Jarque-Bera (JB):               50.164\n",
      "Skew:                          -0.465   Prob(JB):                     1.28e-11\n",
      "Kurtosis:                       4.193   Cond. No.                         36.5\n",
      "==============================================================================\n",
      "\n",
      "Notes:\n",
      "[1] Standard Errors assume that the covariance matrix of the errors is correctly specified.\n",
      "                            OLS Regression Results                            \n",
      "==============================================================================\n",
      "Dep. Variable:                  lwage   R-squared:                       0.793\n",
      "Model:                            OLS   Adj. R-squared:                  0.793\n",
      "Method:                 Least Squares   F-statistic:                     2013.\n",
      "Date:                Sat, 18 Jun 2022   Prob (F-statistic):          1.35e-181\n",
      "Time:                        15:24:02   Log-Likelihood:                 1.3659\n",
      "No. Observations:                 526   AIC:                             1.268\n",
      "Df Residuals:                     524   BIC:                             9.799\n",
      "Df Model:                           1                                         \n",
      "Covariance Type:            nonrobust                                         \n",
      "==============================================================================\n",
      "                 coef    std err          t      P>|t|      [0.025      0.975]\n",
      "------------------------------------------------------------------------------\n",
      "const          1.6233      0.011    153.965      0.000       1.603       1.644\n",
      "0              1.0000      0.022     44.865      0.000       0.956       1.044\n",
      "==============================================================================\n",
      "Omnibus:                       32.728   Durbin-Watson:                   1.870\n",
      "Prob(Omnibus):                  0.000   Jarque-Bera (JB):               50.164\n",
      "Skew:                          -0.465   Prob(JB):                     1.28e-11\n",
      "Kurtosis:                       4.193   Cond. No.                         2.11\n",
      "==============================================================================\n",
      "\n",
      "Notes:\n",
      "[1] Standard Errors assume that the covariance matrix of the errors is correctly specified.\n"
     ]
    }
   ],
   "source": [
    "y = data['educ']\n",
    "x = data[[\"exper\", \"tenure\"]]\n",
    "x = sm.add_constant(x)\n",
    "# 残差\n",
    "resid = model.resid\n",
    "model = sm.OLS(y, x).fit()\n",
    "print(model.summary())\n",
    "\n",
    "y = data['lwage']\n",
    "x = sm.add_constant(resid)\n",
    "model = sm.OLS(y, x).fit()\n",
    "model_summary = model.summary()\n",
    "print(model_summary)"
   ]
  },
  {
   "cell_type": "code",
   "execution_count": 54,
   "id": "1ee40995-5519-4f1c-ad3d-1e480a990b5c",
   "metadata": {},
   "outputs": [],
   "source": [
    "############# C6 ################\n",
    "\n",
    "data = woo.dataWoo('WAGE2')"
   ]
  },
  {
   "cell_type": "code",
   "execution_count": 56,
   "id": "600b7f6e-1f97-4778-a30e-f389fd537d4b",
   "metadata": {
    "collapsed": true,
    "jupyter": {
     "outputs_hidden": true
    },
    "tags": []
   },
   "outputs": [
    {
     "name": "stdout",
     "output_type": "stream",
     "text": [
      "                            OLS Regression Results                            \n",
      "==============================================================================\n",
      "Dep. Variable:                     IQ   R-squared:                       0.266\n",
      "Model:                            OLS   Adj. R-squared:                  0.265\n",
      "Method:                 Least Squares   F-statistic:                     338.0\n",
      "Date:                Sat, 18 Jun 2022   Prob (F-statistic):           1.16e-64\n",
      "Time:                        15:28:03   Log-Likelihood:                -3717.0\n",
      "No. Observations:                 935   AIC:                             7438.\n",
      "Df Residuals:                     933   BIC:                             7448.\n",
      "Df Model:                           1                                         \n",
      "Covariance Type:            nonrobust                                         \n",
      "==============================================================================\n",
      "                 coef    std err          t      P>|t|      [0.025      0.975]\n",
      "------------------------------------------------------------------------------\n",
      "const         53.6872      2.623     20.468      0.000      48.540      58.835\n",
      "educ           3.5338      0.192     18.385      0.000       3.157       3.911\n",
      "==============================================================================\n",
      "Omnibus:                       30.954   Durbin-Watson:                   1.779\n",
      "Prob(Omnibus):                  0.000   Jarque-Bera (JB):               35.266\n",
      "Skew:                          -0.398   Prob(JB):                     2.20e-08\n",
      "Kurtosis:                       3.522   Cond. No.                         85.3\n",
      "==============================================================================\n",
      "\n",
      "Notes:\n",
      "[1] Standard Errors assume that the covariance matrix of the errors is correctly specified.\n"
     ]
    }
   ],
   "source": [
    "y = data['IQ']\n",
    "x = data[\"educ\"]\n",
    "x = sm.add_constant(x)\n",
    "model = sm.OLS(y, x).fit()\n",
    "print(model.summary())"
   ]
  },
  {
   "cell_type": "code",
   "execution_count": 58,
   "id": "3df7db1d-9bac-475e-b2af-2b0ff90cecd3",
   "metadata": {
    "collapsed": true,
    "jupyter": {
     "outputs_hidden": true
    },
    "tags": []
   },
   "outputs": [
    {
     "name": "stdout",
     "output_type": "stream",
     "text": [
      "                            OLS Regression Results                            \n",
      "==============================================================================\n",
      "Dep. Variable:                  lwage   R-squared:                       0.097\n",
      "Model:                            OLS   Adj. R-squared:                  0.096\n",
      "Method:                 Least Squares   F-statistic:                     100.7\n",
      "Date:                Sat, 18 Jun 2022   Prob (F-statistic):           1.42e-22\n",
      "Time:                        15:28:21   Log-Likelihood:                -469.72\n",
      "No. Observations:                 935   AIC:                             943.4\n",
      "Df Residuals:                     933   BIC:                             953.1\n",
      "Df Model:                           1                                         \n",
      "Covariance Type:            nonrobust                                         \n",
      "==============================================================================\n",
      "                 coef    std err          t      P>|t|      [0.025      0.975]\n",
      "------------------------------------------------------------------------------\n",
      "const          5.9731      0.081     73.403      0.000       5.813       6.133\n",
      "educ           0.0598      0.006     10.035      0.000       0.048       0.072\n",
      "==============================================================================\n",
      "Omnibus:                       31.006   Durbin-Watson:                   1.779\n",
      "Prob(Omnibus):                  0.000   Jarque-Bera (JB):               37.262\n",
      "Skew:                          -0.375   Prob(JB):                     8.10e-09\n",
      "Kurtosis:                       3.627   Cond. No.                         85.3\n",
      "==============================================================================\n",
      "\n",
      "Notes:\n",
      "[1] Standard Errors assume that the covariance matrix of the errors is correctly specified.\n"
     ]
    }
   ],
   "source": [
    "y = data['lwage']\n",
    "x = data[\"educ\"]\n",
    "x = sm.add_constant(x)\n",
    "model = sm.OLS(y, x).fit()\n",
    "print(model.summary())"
   ]
  },
  {
   "cell_type": "code",
   "execution_count": 60,
   "id": "443aa5be-2bec-4e43-9ae9-8c1b48206923",
   "metadata": {
    "collapsed": true,
    "jupyter": {
     "outputs_hidden": true
    },
    "tags": []
   },
   "outputs": [
    {
     "name": "stdout",
     "output_type": "stream",
     "text": [
      "                            OLS Regression Results                            \n",
      "==============================================================================\n",
      "Dep. Variable:                  lwage   R-squared:                       0.130\n",
      "Model:                            OLS   Adj. R-squared:                  0.128\n",
      "Method:                 Least Squares   F-statistic:                     69.42\n",
      "Date:                Sat, 18 Jun 2022   Prob (F-statistic):           7.88e-29\n",
      "Time:                        15:30:16   Log-Likelihood:                -452.72\n",
      "No. Observations:                 935   AIC:                             911.4\n",
      "Df Residuals:                     932   BIC:                             926.0\n",
      "Df Model:                           2                                         \n",
      "Covariance Type:            nonrobust                                         \n",
      "==============================================================================\n",
      "                 coef    std err          t      P>|t|      [0.025      0.975]\n",
      "------------------------------------------------------------------------------\n",
      "const          5.6583      0.096     58.793      0.000       5.469       5.847\n",
      "educ           0.0391      0.007      5.721      0.000       0.026       0.053\n",
      "IQ             0.0059      0.001      5.875      0.000       0.004       0.008\n",
      "==============================================================================\n",
      "Omnibus:                       35.757   Durbin-Watson:                   1.810\n",
      "Prob(Omnibus):                  0.000   Jarque-Bera (JB):               47.770\n",
      "Skew:                          -0.376   Prob(JB):                     4.23e-11\n",
      "Kurtosis:                       3.813   Cond. No.                         773.\n",
      "==============================================================================\n",
      "\n",
      "Notes:\n",
      "[1] Standard Errors assume that the covariance matrix of the errors is correctly specified.\n"
     ]
    }
   ],
   "source": [
    "y = data['lwage']\n",
    "x = data[[\"educ\", 'IQ']]\n",
    "x = sm.add_constant(x)\n",
    "model = sm.OLS(y, x).fit()\n",
    "print(model.summary())"
   ]
  },
  {
   "cell_type": "code",
   "execution_count": 85,
   "id": "b1c8ed19-a263-49d5-9cac-49913fe1e8d2",
   "metadata": {},
   "outputs": [],
   "source": [
    "############# C7 ################\n",
    "\n",
    "data = woo.dataWoo('BWGHT2')\n",
    "#还需要处理nan值:data.fillna(0)将nan值换成0\n",
    "#去掉含nan的行 data.dropna()\n",
    "data = data.dropna()"
   ]
  },
  {
   "cell_type": "code",
   "execution_count": 87,
   "id": "ee7f3583-fde0-436b-9ccf-860689933bd4",
   "metadata": {
    "collapsed": true,
    "jupyter": {
     "outputs_hidden": true
    },
    "tags": []
   },
   "outputs": [
    {
     "name": "stdout",
     "output_type": "stream",
     "text": [
      "                            OLS Regression Results                            \n",
      "==============================================================================\n",
      "Dep. Variable:                 lbwght   R-squared:                       0.012\n",
      "Model:                            OLS   Adj. R-squared:                  0.011\n",
      "Method:                 Least Squares   F-statistic:                     9.958\n",
      "Date:                Sat, 18 Jun 2022   Prob (F-statistic):           5.03e-05\n",
      "Time:                        16:20:24   Log-Likelihood:                 430.89\n",
      "No. Observations:                1612   AIC:                            -855.8\n",
      "Df Residuals:                    1609   BIC:                            -839.6\n",
      "Df Model:                           2                                         \n",
      "Covariance Type:            nonrobust                                         \n",
      "==============================================================================\n",
      "                 coef    std err          t      P>|t|      [0.025      0.975]\n",
      "------------------------------------------------------------------------------\n",
      "const          8.0745      0.015    528.011      0.000       8.045       8.104\n",
      "cigs          -0.0031      0.001     -2.699      0.007      -0.005      -0.001\n",
      "npvis          0.0042      0.001      3.384      0.001       0.002       0.007\n",
      "==============================================================================\n",
      "Omnibus:                      821.996   Durbin-Watson:                   1.889\n",
      "Prob(Omnibus):                  0.000   Jarque-Bera (JB):            11442.519\n",
      "Skew:                          -2.042   Prob(JB):                         0.00\n",
      "Kurtosis:                      15.397   Cond. No.                         40.8\n",
      "==============================================================================\n",
      "\n",
      "Notes:\n",
      "[1] Standard Errors assume that the covariance matrix of the errors is correctly specified.\n"
     ]
    }
   ],
   "source": [
    "y = data['lbwght']\n",
    "\n",
    "#还需要处理nan值:data.fillna(0)将nan值换成0\n",
    "x = data[[\"cigs\", 'npvis']]\n",
    "x = sm.add_constant(x)\n",
    "model = sm.OLS(y, x).fit()\n",
    "print(model.summary())"
   ]
  },
  {
   "cell_type": "code",
   "execution_count": 90,
   "id": "a61b1e93-41af-498e-a9b8-f332b5f3aede",
   "metadata": {
    "collapsed": true,
    "jupyter": {
     "outputs_hidden": true
    },
    "tags": []
   },
   "outputs": [
    {
     "name": "stdout",
     "output_type": "stream",
     "text": [
      "                            OLS Regression Results                            \n",
      "==============================================================================\n",
      "Dep. Variable:                 lbwght   R-squared:                       0.005\n",
      "Model:                            OLS   Adj. R-squared:                  0.005\n",
      "Method:                 Least Squares   F-statistic:                     8.408\n",
      "Date:                Sat, 18 Jun 2022   Prob (F-statistic):            0.00379\n",
      "Time:                        16:20:44   Log-Likelihood:                 425.17\n",
      "No. Observations:                1612   AIC:                            -846.3\n",
      "Df Residuals:                    1610   BIC:                            -835.6\n",
      "Df Model:                           1                                         \n",
      "Covariance Type:            nonrobust                                         \n",
      "==============================================================================\n",
      "                 coef    std err          t      P>|t|      [0.025      0.975]\n",
      "------------------------------------------------------------------------------\n",
      "const          8.1237      0.005   1697.203      0.000       8.114       8.133\n",
      "cigs          -0.0033      0.001     -2.900      0.004      -0.006      -0.001\n",
      "==============================================================================\n",
      "Omnibus:                      842.317   Durbin-Watson:                   1.900\n",
      "Prob(Omnibus):                  0.000   Jarque-Bera (JB):            12371.106\n",
      "Skew:                          -2.092   Prob(JB):                         0.00\n",
      "Kurtosis:                      15.911   Cond. No.                         4.36\n",
      "==============================================================================\n",
      "\n",
      "Notes:\n",
      "[1] Standard Errors assume that the covariance matrix of the errors is correctly specified.\n"
     ]
    }
   ],
   "source": [
    "y = data['lbwght']\n",
    "x = data[\"cigs\"]\n",
    "x = sm.add_constant(x)\n",
    "model = sm.OLS(y, x).fit()\n",
    "print(model.summary())"
   ]
  },
  {
   "cell_type": "code",
   "execution_count": 91,
   "id": "307d9da5-ab6e-41a5-9b3e-0145ae3c0a57",
   "metadata": {
    "tags": []
   },
   "outputs": [
    {
     "name": "stdout",
     "output_type": "stream",
     "text": [
      "                            OLS Regression Results                            \n",
      "==============================================================================\n",
      "Dep. Variable:                 lbwght   R-squared:                       0.016\n",
      "Model:                            OLS   Adj. R-squared:                  0.012\n",
      "Method:                 Least Squares   F-statistic:                     4.373\n",
      "Date:                Sat, 18 Jun 2022   Prob (F-statistic):           0.000217\n",
      "Time:                        16:21:45   Log-Likelihood:                 434.05\n",
      "No. Observations:                1612   AIC:                            -854.1\n",
      "Df Residuals:                    1605   BIC:                            -816.4\n",
      "Df Model:                           6                                         \n",
      "Covariance Type:            nonrobust                                         \n",
      "==============================================================================\n",
      "                 coef    std err          t      P>|t|      [0.025      0.975]\n",
      "------------------------------------------------------------------------------\n",
      "const          8.0050      0.041    196.434      0.000       7.925       8.085\n",
      "cigs          -0.0029      0.001     -2.509      0.012      -0.005      -0.001\n",
      "npvis          0.0040      0.001      3.201      0.001       0.002       0.006\n",
      "mage          -0.0002      0.001     -0.115      0.909      -0.003       0.003\n",
      "meduc         -0.0014      0.003     -0.501      0.616      -0.007       0.004\n",
      "fage           0.0019      0.001      1.665      0.096      -0.000       0.004\n",
      "feduc          0.0026      0.003      1.002      0.317      -0.002       0.008\n",
      "==============================================================================\n",
      "Omnibus:                      818.354   Durbin-Watson:                   1.889\n",
      "Prob(Omnibus):                  0.000   Jarque-Bera (JB):            11383.648\n",
      "Skew:                          -2.030   Prob(JB):                         0.00\n",
      "Kurtosis:                      15.369   Cond. No.                         437.\n",
      "==============================================================================\n",
      "\n",
      "Notes:\n",
      "[1] Standard Errors assume that the covariance matrix of the errors is correctly specified.\n"
     ]
    }
   ],
   "source": [
    "y = data['lbwght']\n",
    "x = data[[\"cigs\", 'npvis', 'mage', 'meduc', 'fage', 'feduc']]\n",
    "x = sm.add_constant(x)\n",
    "model = sm.OLS(y, x).fit()\n",
    "print(model.summary())"
   ]
  },
  {
   "cell_type": "code",
   "execution_count": 94,
   "id": "70251c64-4684-469c-9454-af1ba4276c1b",
   "metadata": {},
   "outputs": [],
   "source": [
    "############# C7 ################\n",
    "\n",
    "data = woo.dataWoo('DISCRIM')\n",
    "#还需要处理nan值:data.fillna(0)将nan值换成0\n",
    "#去掉含nan的行 data.dropna()\n",
    "data = data.dropna()"
   ]
  },
  {
   "cell_type": "code",
   "execution_count": 96,
   "id": "f14b8198-3fcb-4510-8cd0-c73da33dbcde",
   "metadata": {
    "tags": []
   },
   "outputs": [
    {
     "name": "stdout",
     "output_type": "stream",
     "text": [
      "prpblck        0.116366\n",
      "income     46833.387097\n",
      "dtype: float64\n",
      "prpblck        0.184694\n",
      "income     13686.856015\n",
      "dtype: float64\n"
     ]
    }
   ],
   "source": [
    "# i\n",
    "print(data[[\"prpblck\", \"income\"]].mean())\n",
    "print(data[[\"prpblck\", \"income\"]].std())"
   ]
  },
  {
   "cell_type": "code",
   "execution_count": 98,
   "id": "592cb22a-6630-4685-b0e0-2898d258643b",
   "metadata": {},
   "outputs": [
    {
     "name": "stdout",
     "output_type": "stream",
     "text": [
      "                            OLS Regression Results                            \n",
      "==============================================================================\n",
      "Dep. Variable:                  psoda   R-squared:                       0.091\n",
      "Model:                            OLS   Adj. R-squared:                  0.085\n",
      "Method:                 Least Squares   F-statistic:                     15.44\n",
      "Date:                Sat, 18 Jun 2022   Prob (F-statistic):           4.07e-07\n",
      "Time:                        16:27:15   Log-Likelihood:                 323.24\n",
      "No. Observations:                 310   AIC:                            -640.5\n",
      "Df Residuals:                     307   BIC:                            -629.3\n",
      "Df Model:                           2                                         \n",
      "Covariance Type:            nonrobust                                         \n",
      "==============================================================================\n",
      "                 coef    std err          t      P>|t|      [0.025      0.975]\n",
      "------------------------------------------------------------------------------\n",
      "const          0.9412      0.021     43.921      0.000       0.899       0.983\n",
      "prpblck        0.1481      0.030      4.932      0.000       0.089       0.207\n",
      "income      1.865e-06   4.05e-07      4.602      0.000    1.07e-06    2.66e-06\n",
      "==============================================================================\n",
      "Omnibus:                       28.765   Durbin-Watson:                   1.679\n",
      "Prob(Omnibus):                  0.000   Jarque-Bera (JB):               73.534\n",
      "Skew:                           0.415   Prob(JB):                     1.08e-16\n",
      "Kurtosis:                       5.237   Cond. No.                     3.35e+05\n",
      "==============================================================================\n",
      "\n",
      "Notes:\n",
      "[1] Standard Errors assume that the covariance matrix of the errors is correctly specified.\n",
      "[2] The condition number is large, 3.35e+05. This might indicate that there are\n",
      "strong multicollinearity or other numerical problems.\n"
     ]
    }
   ],
   "source": [
    "y = data['psoda']\n",
    "x = data[[\"prpblck\", \"income\"]]\n",
    "x = sm.add_constant(x)\n",
    "model = sm.OLS(y, x).fit()\n",
    "print(model.summary())"
   ]
  },
  {
   "cell_type": "code",
   "execution_count": 100,
   "id": "c5120e54-ab7f-4981-ad0d-d9b2855b2be5",
   "metadata": {},
   "outputs": [
    {
     "name": "stdout",
     "output_type": "stream",
     "text": [
      "                            OLS Regression Results                            \n",
      "==============================================================================\n",
      "Dep. Variable:                  psoda   R-squared:                       0.029\n",
      "Model:                            OLS   Adj. R-squared:                  0.026\n",
      "Method:                 Least Squares   F-statistic:                     9.113\n",
      "Date:                Sat, 18 Jun 2022   Prob (F-statistic):            0.00275\n",
      "Time:                        16:28:35   Log-Likelihood:                 312.90\n",
      "No. Observations:                 310   AIC:                            -621.8\n",
      "Df Residuals:                     308   BIC:                            -614.3\n",
      "Df Model:                           1                                         \n",
      "Covariance Type:            nonrobust                                         \n",
      "==============================================================================\n",
      "                 coef    std err          t      P>|t|      [0.025      0.975]\n",
      "------------------------------------------------------------------------------\n",
      "const          1.0361      0.006    174.380      0.000       1.024       1.048\n",
      "prpblck        0.0823      0.027      3.019      0.003       0.029       0.136\n",
      "==============================================================================\n",
      "Omnibus:                       26.783   Durbin-Watson:                   1.537\n",
      "Prob(Omnibus):                  0.000   Jarque-Bera (JB):               62.195\n",
      "Skew:                           0.415   Prob(JB):                     3.12e-14\n",
      "Kurtosis:                       5.031   Cond. No.                         5.50\n",
      "==============================================================================\n",
      "\n",
      "Notes:\n",
      "[1] Standard Errors assume that the covariance matrix of the errors is correctly specified.\n"
     ]
    }
   ],
   "source": [
    "y = data['psoda']\n",
    "x = data[\"prpblck\"]\n",
    "x = sm.add_constant(x)\n",
    "model = sm.OLS(y, x).fit()\n",
    "print(model.summary())"
   ]
  },
  {
   "cell_type": "code",
   "execution_count": 102,
   "id": "0b6a48c1-7f4f-4b83-9ffb-9808ec8b6487",
   "metadata": {},
   "outputs": [
    {
     "name": "stdout",
     "output_type": "stream",
     "text": [
      "                            OLS Regression Results                            \n",
      "==============================================================================\n",
      "Dep. Variable:                 lpsoda   R-squared:                       0.093\n",
      "Model:                            OLS   Adj. R-squared:                  0.087\n",
      "Method:                 Least Squares   F-statistic:                     15.69\n",
      "Date:                Sat, 18 Jun 2022   Prob (F-statistic):           3.24e-07\n",
      "Time:                        16:30:42   Log-Likelihood:                 337.80\n",
      "No. Observations:                 310   AIC:                            -669.6\n",
      "Df Residuals:                     307   BIC:                            -658.4\n",
      "Df Model:                           2                                         \n",
      "Covariance Type:            nonrobust                                         \n",
      "==============================================================================\n",
      "                 coef    std err          t      P>|t|      [0.025      0.975]\n",
      "------------------------------------------------------------------------------\n",
      "const         -0.0595      0.020     -2.909      0.004      -0.100      -0.019\n",
      "prpblck        0.1425      0.029      4.974      0.000       0.086       0.199\n",
      "income      1.792e-06   3.87e-07      4.636      0.000    1.03e-06    2.55e-06\n",
      "==============================================================================\n",
      "Omnibus:                       12.667   Durbin-Watson:                   1.664\n",
      "Prob(Omnibus):                  0.002   Jarque-Bera (JB):               28.222\n",
      "Skew:                          -0.042   Prob(JB):                     7.44e-07\n",
      "Kurtosis:                       4.476   Cond. No.                     3.35e+05\n",
      "==============================================================================\n",
      "\n",
      "Notes:\n",
      "[1] Standard Errors assume that the covariance matrix of the errors is correctly specified.\n",
      "[2] The condition number is large, 3.35e+05. This might indicate that there are\n",
      "strong multicollinearity or other numerical problems.\n"
     ]
    }
   ],
   "source": [
    "y = data['lpsoda']\n",
    "x = data[[\"prpblck\", \"income\"]]\n",
    "x = sm.add_constant(x)\n",
    "model = sm.OLS(y, x).fit()\n",
    "print(model.summary())"
   ]
  },
  {
   "cell_type": "code",
   "execution_count": 104,
   "id": "818f9753-492d-428d-b054-df4e9d52900e",
   "metadata": {},
   "outputs": [
    {
     "name": "stdout",
     "output_type": "stream",
     "text": [
      "                            OLS Regression Results                            \n",
      "==============================================================================\n",
      "Dep. Variable:                 lpsoda   R-squared:                       0.095\n",
      "Model:                            OLS   Adj. R-squared:                  0.086\n",
      "Method:                 Least Squares   F-statistic:                     10.66\n",
      "Date:                Sat, 18 Jun 2022   Prob (F-statistic):           1.10e-06\n",
      "Time:                        16:32:23   Log-Likelihood:                 338.12\n",
      "No. Observations:                 310   AIC:                            -668.2\n",
      "Df Residuals:                     306   BIC:                            -653.3\n",
      "Df Model:                           3                                         \n",
      "Covariance Type:            nonrobust                                         \n",
      "==============================================================================\n",
      "                 coef    std err          t      P>|t|      [0.025      0.975]\n",
      "------------------------------------------------------------------------------\n",
      "const         -0.0762      0.029     -2.602      0.010      -0.134      -0.019\n",
      "prpblck        0.1240      0.037      3.363      0.001       0.051       0.197\n",
      "income      2.042e-06   4.98e-07      4.103      0.000    1.06e-06    3.02e-06\n",
      "prppov         0.0961      0.121      0.797      0.426      -0.141       0.333\n",
      "==============================================================================\n",
      "Omnibus:                       12.497   Durbin-Watson:                   1.676\n",
      "Prob(Omnibus):                  0.002   Jarque-Bera (JB):               27.562\n",
      "Skew:                          -0.044   Prob(JB):                     1.03e-06\n",
      "Kurtosis:                       4.458   Cond. No.                     1.31e+06\n",
      "==============================================================================\n",
      "\n",
      "Notes:\n",
      "[1] Standard Errors assume that the covariance matrix of the errors is correctly specified.\n",
      "[2] The condition number is large, 1.31e+06. This might indicate that there are\n",
      "strong multicollinearity or other numerical problems.\n"
     ]
    }
   ],
   "source": [
    "y = data['lpsoda']\n",
    "x = data[[\"prpblck\", \"income\", 'prppov']]\n",
    "x = sm.add_constant(x)\n",
    "model = sm.OLS(y, x).fit()\n",
    "print(model.summary())"
   ]
  },
  {
   "cell_type": "code",
   "execution_count": 107,
   "id": "b84dce00-b456-474e-9e32-c5af3667b2ce",
   "metadata": {},
   "outputs": [
    {
     "data": {
      "text/plain": [
       "-0.8468178061828447"
      ]
     },
     "execution_count": 107,
     "metadata": {},
     "output_type": "execute_result"
    }
   ],
   "source": [
    "data['lincome'].corr(data['prppov'])"
   ]
  }
 ],
 "metadata": {
  "kernelspec": {
   "display_name": "Python 3 (ipykernel)",
   "language": "python",
   "name": "python3"
  },
  "language_info": {
   "codemirror_mode": {
    "name": "ipython",
    "version": 3
   },
   "file_extension": ".py",
   "mimetype": "text/x-python",
   "name": "python",
   "nbconvert_exporter": "python",
   "pygments_lexer": "ipython3",
   "version": "3.9.12"
  }
 },
 "nbformat": 4,
 "nbformat_minor": 5
}
